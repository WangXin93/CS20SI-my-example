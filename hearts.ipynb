{
 "cells": [
  {
   "cell_type": "code",
   "execution_count": 1,
   "metadata": {
    "collapsed": true
   },
   "outputs": [],
   "source": [
    "import tensorflow as tf\n",
    "import numpy as np\n",
    "import pandas as pd\n",
    "import matplotlib.pyplot as plt\n",
    "%matplotlib inline"
   ]
  },
  {
   "cell_type": "code",
   "execution_count": 2,
   "metadata": {
    "collapsed": true
   },
   "outputs": [],
   "source": [
    "data = pd.read_csv('heart.csv')"
   ]
  },
  {
   "cell_type": "code",
   "execution_count": 3,
   "metadata": {
    "collapsed": false
   },
   "outputs": [
    {
     "data": {
      "text/html": [
       "<div>\n",
       "<style>\n",
       "    .dataframe thead tr:only-child th {\n",
       "        text-align: right;\n",
       "    }\n",
       "\n",
       "    .dataframe thead th {\n",
       "        text-align: left;\n",
       "    }\n",
       "\n",
       "    .dataframe tbody tr th {\n",
       "        vertical-align: top;\n",
       "    }\n",
       "</style>\n",
       "<table border=\"1\" class=\"dataframe\">\n",
       "  <thead>\n",
       "    <tr style=\"text-align: right;\">\n",
       "      <th></th>\n",
       "      <th>sbp</th>\n",
       "      <th>tobacco</th>\n",
       "      <th>ldl</th>\n",
       "      <th>adiposity</th>\n",
       "      <th>famhist</th>\n",
       "      <th>typea</th>\n",
       "      <th>obesity</th>\n",
       "      <th>alcohol</th>\n",
       "      <th>age</th>\n",
       "      <th>chd</th>\n",
       "    </tr>\n",
       "  </thead>\n",
       "  <tbody>\n",
       "    <tr>\n",
       "      <th>0</th>\n",
       "      <td>160</td>\n",
       "      <td>12.00</td>\n",
       "      <td>5.73</td>\n",
       "      <td>23.11</td>\n",
       "      <td>Present</td>\n",
       "      <td>49</td>\n",
       "      <td>25.30</td>\n",
       "      <td>97.20</td>\n",
       "      <td>52</td>\n",
       "      <td>1</td>\n",
       "    </tr>\n",
       "    <tr>\n",
       "      <th>1</th>\n",
       "      <td>144</td>\n",
       "      <td>0.01</td>\n",
       "      <td>4.41</td>\n",
       "      <td>28.61</td>\n",
       "      <td>Absent</td>\n",
       "      <td>55</td>\n",
       "      <td>28.87</td>\n",
       "      <td>2.06</td>\n",
       "      <td>63</td>\n",
       "      <td>1</td>\n",
       "    </tr>\n",
       "    <tr>\n",
       "      <th>2</th>\n",
       "      <td>118</td>\n",
       "      <td>0.08</td>\n",
       "      <td>3.48</td>\n",
       "      <td>32.28</td>\n",
       "      <td>Present</td>\n",
       "      <td>52</td>\n",
       "      <td>29.14</td>\n",
       "      <td>3.81</td>\n",
       "      <td>46</td>\n",
       "      <td>0</td>\n",
       "    </tr>\n",
       "    <tr>\n",
       "      <th>3</th>\n",
       "      <td>170</td>\n",
       "      <td>7.50</td>\n",
       "      <td>6.41</td>\n",
       "      <td>38.03</td>\n",
       "      <td>Present</td>\n",
       "      <td>51</td>\n",
       "      <td>31.99</td>\n",
       "      <td>24.26</td>\n",
       "      <td>58</td>\n",
       "      <td>1</td>\n",
       "    </tr>\n",
       "    <tr>\n",
       "      <th>4</th>\n",
       "      <td>134</td>\n",
       "      <td>13.60</td>\n",
       "      <td>3.50</td>\n",
       "      <td>27.78</td>\n",
       "      <td>Present</td>\n",
       "      <td>60</td>\n",
       "      <td>25.99</td>\n",
       "      <td>57.34</td>\n",
       "      <td>49</td>\n",
       "      <td>1</td>\n",
       "    </tr>\n",
       "  </tbody>\n",
       "</table>\n",
       "</div>"
      ],
      "text/plain": [
       "   sbp  tobacco   ldl  adiposity  famhist  typea  obesity  alcohol  age  chd\n",
       "0  160    12.00  5.73      23.11  Present     49    25.30    97.20   52    1\n",
       "1  144     0.01  4.41      28.61   Absent     55    28.87     2.06   63    1\n",
       "2  118     0.08  3.48      32.28  Present     52    29.14     3.81   46    0\n",
       "3  170     7.50  6.41      38.03  Present     51    31.99    24.26   58    1\n",
       "4  134    13.60  3.50      27.78  Present     60    25.99    57.34   49    1"
      ]
     },
     "execution_count": 3,
     "metadata": {},
     "output_type": "execute_result"
    }
   ],
   "source": [
    "data.head()"
   ]
  },
  {
   "cell_type": "code",
   "execution_count": 4,
   "metadata": {
    "collapsed": false
   },
   "outputs": [],
   "source": [
    "np_data = np.array(data)\n",
    "features = np_data[:, :-1]\n",
    "labels = np_data[:, -1]\n",
    "\n",
    "# Convert string to float\n",
    "features[:, 4]  = np.array(features[:, 4] == 'Present', dtype=np.float)"
   ]
  },
  {
   "cell_type": "code",
   "execution_count": 5,
   "metadata": {
    "collapsed": false
   },
   "outputs": [],
   "source": [
    "# Preprocess features\n",
    "processed_features = (features - np.mean(features, axis=0))/(np.max(features, axis=0) - np.min(features, axis=0))"
   ]
  },
  {
   "cell_type": "code",
   "execution_count": 6,
   "metadata": {
    "collapsed": false
   },
   "outputs": [
    {
     "name": "stdout",
     "output_type": "stream",
     "text": [
      "Features has shape:  (462, 9) \n",
      "Labels has shape:  (462,)\n",
      "Train features has shape:  (400, 9) \n",
      "Train labels has shape:  (400,)\n"
     ]
    }
   ],
   "source": [
    "train_features = processed_features[:400, :]\n",
    "train_labels = labels[:400]\n",
    "val_features = processed_features[400:, :]\n",
    "val_labels = labels[400:]\n",
    "print('Features has shape: ',processed_features.shape, '\\nLabels has shape: ', labels.shape)\n",
    "print('Train features has shape: ',train_features.shape,\n",
    "      '\\nTrain labels has shape: ', train_labels.shape)"
   ]
  },
  {
   "cell_type": "code",
   "execution_count": 7,
   "metadata": {
    "collapsed": true
   },
   "outputs": [],
   "source": [
    "def xentropy(targets, logits):\n",
    "    out = logits - logits*targets + tf.log(1 + tf.exp(-logits))\n",
    "    return tf.reduce_mean(out)"
   ]
  },
  {
   "cell_type": "code",
   "execution_count": 8,
   "metadata": {
    "collapsed": false
   },
   "outputs": [
    {
     "name": "stdout",
     "output_type": "stream",
     "text": [
      "Step: 0, Loss: 0.6937486529350281\n",
      "Step: 1, Loss: 0.6935855746269226\n",
      "Step: 2, Loss: 0.6933151483535767\n",
      "Step: 3, Loss: 0.6931213736534119\n",
      "Step: 4, Loss: 0.6929357051849365\n",
      "Step: 5, Loss: 0.692714512348175\n",
      "Step: 6, Loss: 0.6925159096717834\n",
      "Step: 7, Loss: 0.6922852396965027\n",
      "Step: 8, Loss: 0.6921020150184631\n",
      "Step: 9, Loss: 0.6919311881065369\n",
      "Step: 10, Loss: 0.6917015314102173\n",
      "Step: 11, Loss: 0.6914949417114258\n",
      "Step: 12, Loss: 0.6912895441055298\n",
      "Step: 13, Loss: 0.6911013126373291\n",
      "Step: 14, Loss: 0.6909037828445435\n",
      "Step: 15, Loss: 0.6906882524490356\n",
      "Step: 16, Loss: 0.6905199885368347\n",
      "Step: 17, Loss: 0.6903326511383057\n",
      "Step: 18, Loss: 0.690122663974762\n",
      "Step: 19, Loss: 0.689950704574585\n",
      "Step: 20, Loss: 0.6897273659706116\n",
      "Step: 21, Loss: 0.6895699501037598\n",
      "Step: 22, Loss: 0.6893557906150818\n",
      "Step: 23, Loss: 0.6891810297966003\n",
      "Step: 24, Loss: 0.6889896392822266\n",
      "Step: 25, Loss: 0.6887996196746826\n",
      "Step: 26, Loss: 0.6886182427406311\n",
      "Step: 27, Loss: 0.6884485483169556\n",
      "Step: 28, Loss: 0.6882410049438477\n",
      "Step: 29, Loss: 0.6880686283111572\n",
      "Step: 30, Loss: 0.6879147291183472\n",
      "Step: 31, Loss: 0.6876941919326782\n",
      "Step: 32, Loss: 0.6875434517860413\n",
      "Step: 33, Loss: 0.6873575448989868\n",
      "Step: 34, Loss: 0.687139630317688\n",
      "Step: 35, Loss: 0.6869998574256897\n",
      "Step: 36, Loss: 0.6868240237236023\n",
      "Step: 37, Loss: 0.6866316199302673\n",
      "Step: 38, Loss: 0.6864749193191528\n",
      "Step: 39, Loss: 0.6862775683403015\n",
      "Step: 40, Loss: 0.6861255168914795\n",
      "Step: 41, Loss: 0.685948371887207\n",
      "Step: 42, Loss: 0.6857792139053345\n",
      "Step: 43, Loss: 0.6856195330619812\n",
      "Step: 44, Loss: 0.6854238510131836\n",
      "Step: 45, Loss: 0.6852779388427734\n",
      "Step: 46, Loss: 0.6851295828819275\n",
      "Step: 47, Loss: 0.6849146485328674\n",
      "Step: 48, Loss: 0.6847793459892273\n",
      "Step: 49, Loss: 0.6846088171005249\n",
      "Step: 50, Loss: 0.6844146251678467\n",
      "Step: 51, Loss: 0.6842845678329468\n",
      "Step: 52, Loss: 0.6841140389442444\n",
      "Step: 53, Loss: 0.6839487552642822\n",
      "Step: 54, Loss: 0.683789074420929\n",
      "Step: 55, Loss: 0.6836192607879639\n",
      "Step: 56, Loss: 0.6834635734558105\n",
      "Step: 57, Loss: 0.6833040118217468\n",
      "Step: 58, Loss: 0.6831563711166382\n",
      "Step: 59, Loss: 0.6829923987388611\n",
      "Step: 60, Loss: 0.6828391551971436\n",
      "Step: 61, Loss: 0.6826910972595215\n",
      "Step: 62, Loss: 0.6825143694877625\n",
      "Step: 63, Loss: 0.6823765635490417\n",
      "Step: 64, Loss: 0.6822119355201721\n",
      "Step: 65, Loss: 0.6820526719093323\n",
      "Step: 66, Loss: 0.6819140911102295\n",
      "Step: 67, Loss: 0.6817494630813599\n",
      "Step: 68, Loss: 0.6816072463989258\n",
      "Step: 69, Loss: 0.6814628839492798\n",
      "Step: 70, Loss: 0.6812954545021057\n",
      "Step: 71, Loss: 0.6811854243278503\n",
      "Step: 72, Loss: 0.6810031533241272\n",
      "Step: 73, Loss: 0.6808742880821228\n",
      "Step: 74, Loss: 0.6807616353034973\n",
      "Step: 75, Loss: 0.6805605888366699\n",
      "Step: 76, Loss: 0.6804217100143433\n",
      "Step: 77, Loss: 0.6803024411201477\n",
      "Step: 78, Loss: 0.6801505088806152\n",
      "Step: 79, Loss: 0.6799882054328918\n",
      "Step: 80, Loss: 0.6798654198646545\n",
      "Step: 81, Loss: 0.6797487735748291\n",
      "Step: 82, Loss: 0.6795769333839417\n",
      "Step: 83, Loss: 0.6794427633285522\n",
      "Step: 84, Loss: 0.6793147325515747\n",
      "Step: 85, Loss: 0.6791479587554932\n",
      "Step: 86, Loss: 0.6790266633033752\n",
      "Step: 87, Loss: 0.678883969783783\n",
      "Step: 88, Loss: 0.6787446141242981\n",
      "Step: 89, Loss: 0.6786237359046936\n",
      "Step: 90, Loss: 0.6784707307815552\n",
      "Step: 91, Loss: 0.6783530116081238\n",
      "Step: 92, Loss: 0.6782041788101196\n",
      "Step: 93, Loss: 0.6781026124954224\n",
      "Step: 94, Loss: 0.6779398322105408\n",
      "Step: 95, Loss: 0.6778172850608826\n",
      "Step: 96, Loss: 0.6777042746543884\n",
      "Step: 97, Loss: 0.6775719523429871\n",
      "Step: 98, Loss: 0.6774258613586426\n",
      "Step: 99, Loss: 0.6772840619087219\n"
     ]
    },
    {
     "data": {
      "image/png": "[encoded data removed]",
      "text/plain": [
       "<matplotlib.figure.Figure at 0x10dd13898>"
      ]
     },
     "metadata": {},
     "output_type": "display_data"
    },
    {
     "name": "stdout",
     "output_type": "stream",
     "text": [
      "Accuracy: 0.6774193644523621\n"
     ]
    }
   ],
   "source": [
    "with tf.Graph().as_default():\n",
    "    X = tf.placeholder(tf.float32, [None, 9], 'X')\n",
    "    Y = tf.placeholder(tf.int64, [None,], 'Y')\n",
    "    \n",
    "    w = tf.Variable(tf.truncated_normal([9, 1], stddev=0.1), name='weights')\n",
    "    b = tf.Variable(tf.zeros([]), name='bias')\n",
    "    \n",
    "    logits = tf.matmul(X, w) + b\n",
    "    loss = xentropy(tf.cast(Y, tf.float32), logits)\n",
    "    \n",
    "    train_op = tf.train.GradientDescentOptimizer(0.01).minimize(loss)\n",
    "    \n",
    "    #Define accuracy\n",
    "    predictions = tf.sigmoid(logits) > 0.5\n",
    "    acc, acc_op = tf.metrics.accuracy(Y, predictions)\n",
    "    \n",
    "    with tf.Session() as sess:\n",
    "        sess.run(tf.global_variables_initializer())\n",
    "        sess.run(tf.local_variables_initializer())\n",
    "        \n",
    "        loss_history=[]\n",
    "        for i in range(100):\n",
    "            _, np_loss = sess.run([train_op, loss],\n",
    "                                  feed_dict={X:train_features, Y:train_labels})\n",
    "            print('Step: {}, Loss: {}'.format(i, np_loss))\n",
    "            loss_history.append(np_loss)\n",
    "            \n",
    "        plt.plot(loss_history)\n",
    "        plt.title('Loss history')\n",
    "        plt.show()\n",
    "        \n",
    "        # Test model\n",
    "        np_acc,np_predictions = sess.run([acc_op, predictions],\n",
    "                            feed_dict={X:val_features, Y:val_labels})\n",
    "        if np.sum(np_predictions) == 0:\n",
    "            print('No predictions is True')\n",
    "        print('Accuracy: {}'.format(np_acc))\n",
    "            "
   ]
  },
  {
   "cell_type": "code",
   "execution_count": null,
   "metadata": {
    "collapsed": true
   },
   "outputs": [],
   "source": []
  }
 ],
 "metadata": {
  "kernelspec": {
   "display_name": "Python 3",
   "language": "python",
   "name": "python3"
  },
  "language_info": {
   "codemirror_mode": {
    "name": "ipython",
    "version": 3
   },
   "file_extension": ".py",
   "mimetype": "text/x-python",
   "name": "python",
   "nbconvert_exporter": "python",
   "pygments_lexer": "ipython3",
   "version": "3.6.2"
  }
 },
 "nbformat": 4,
 "nbformat_minor": 2
}
