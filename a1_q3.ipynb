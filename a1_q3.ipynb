{
 "cells": [
  {
   "cell_type": "code",
   "execution_count": 1,
   "metadata": {
    "collapsed": true
   },
   "outputs": [],
   "source": [
    "import tensorflow as tf\n",
    "import numpy as np\n",
    "import pandas as pd\n",
    "import matplotlib.pyplot as plt\n",
    "%matplotlib inline"
   ]
  },
  {
   "cell_type": "markdown",
   "metadata": {},
   "source": [
    "## Read data"
   ]
  },
  {
   "cell_type": "code",
   "execution_count": 2,
   "metadata": {
    "collapsed": true
   },
   "outputs": [],
   "source": [
    "with open(\"heats.txt\", \"r\") as f:\n",
    "        columns = f.readline()\n",
    "        data = f.readlines()"
   ]
  },
  {
   "cell_type": "code",
   "execution_count": 3,
   "metadata": {
    "collapsed": false
   },
   "outputs": [
    {
     "name": "stdout",
     "output_type": "stream",
     "text": [
      "Data has 10 columns: ['\"sbp\"', '\"tobacco\"', '\"ldl\"', '\"adiposity\"', '\"famhist\"', '\"typea\"', '\"obesity\"', '\"alcohol\"', '\"age\"', '\"chd\"']\n"
     ]
    }
   ],
   "source": [
    "columns = columns.strip(\"\\n\").split(\"\\t\")\n",
    "print(\"Data has {} columns: {}\".format(len(columns), columns))"
   ]
  },
  {
   "cell_type": "code",
   "execution_count": 4,
   "metadata": {
    "collapsed": false,
    "scrolled": true
   },
   "outputs": [
    {
     "name": "stdout",
     "output_type": "stream",
     "text": [
      "There are totally 462 samples.\n"
     ]
    }
   ],
   "source": [
    "def clean(s):\n",
    "    s = s.strip(\"\\n\").split(\"\\t\")\n",
    "    return s\n",
    "data = list(map(clean, data))\n",
    "data = list(filter(lambda d:len(d)!=1, data))\n",
    "print(\"There are totally {} samples.\".format(len(data)))"
   ]
  },
  {
   "cell_type": "code",
   "execution_count": 5,
   "metadata": {
    "collapsed": false
   },
   "outputs": [],
   "source": [
    "# Change famhist label to int\n",
    "i = 0\n",
    "for d in data:\n",
    "    d[4] = int(d[4] == '\"Present\"')\n",
    "    d = [float(e) for e in d]"
   ]
  },
  {
   "cell_type": "code",
   "execution_count": 6,
   "metadata": {
    "collapsed": false,
    "scrolled": true
   },
   "outputs": [
    {
     "name": "stdout",
     "output_type": "stream",
     "text": [
      "Data has shape: (462, 10)\n",
      "Train feature has shape: (400, 9)\n",
      "Train label has shape: (400,)\n",
      "Test feature has shape: (62, 9)\n",
      "Test label has shape: (62,)\n"
     ]
    }
   ],
   "source": [
    "data = np.array(data)\n",
    "train_feature = data[:400, 0:9]\n",
    "train_label = data[:400, 9]\n",
    "test_feature = data[400:, 0:9]\n",
    "test_label = data[400:, 9]\n",
    "print(\"Data has shape: {}\".format(data.shape))\n",
    "print(\"Train feature has shape: {}\".format(train_feature.shape))\n",
    "print(\"Train label has shape: {}\".format(train_label.shape))\n",
    "print(\"Test feature has shape: {}\".format(test_feature.shape))\n",
    "print(\"Test label has shape: {}\".format(test_label.shape))"
   ]
  },
  {
   "cell_type": "markdown",
   "metadata": {},
   "source": [
    " ## Define parameter      "
   ]
  },
  {
   "cell_type": "code",
   "execution_count": 7,
   "metadata": {
    "collapsed": true
   },
   "outputs": [],
   "source": [
    "batch_size = 128\n",
    "learning_rate = 0.004\n",
    "#tf.set_random_seed(0)"
   ]
  },
  {
   "cell_type": "markdown",
   "metadata": {},
   "source": [
    "## Define placeholder"
   ]
  },
  {
   "cell_type": "code",
   "execution_count": 8,
   "metadata": {
    "collapsed": true
   },
   "outputs": [],
   "source": [
    "X = tf.placeholder(tf.float32, shape=[None, 9], name=\"Input\")\n",
    "Y = tf.placeholder(tf.float32, shape=[None], name=\"Label\")"
   ]
  },
  {
   "cell_type": "markdown",
   "metadata": {},
   "source": [
    "## Define Variables"
   ]
  },
  {
   "cell_type": "code",
   "execution_count": 9,
   "metadata": {
    "collapsed": true
   },
   "outputs": [],
   "source": [
    "w1 = tf.Variable(tf.truncated_normal([9, 18], stddev=0.1), name=\"Weights1\")\n",
    "b1 = tf.Variable(tf.zeros([]), name=\"Bias1\")\n",
    "w2 = tf.Variable(tf.truncated_normal([18, 18], stddev=0.1), name=\"Weights2\")\n",
    "b2 = tf.Variable(tf.zeros([]), name=\"Bias2\")\n",
    "w3 = tf.Variable(tf.truncated_normal([18, 1], stddev=0.1), name=\"Weights3\")\n",
    "b3 = tf.Variable(tf.zeros([]), name=\"Bias3\")"
   ]
  },
  {
   "cell_type": "markdown",
   "metadata": {},
   "source": [
    "## Define sigmoid loss"
   ]
  },
  {
   "cell_type": "code",
   "execution_count": 10,
   "metadata": {
    "collapsed": false
   },
   "outputs": [],
   "source": [
    "with tf.name_scope(\"Loss\"):\n",
    "    h1 = tf.sigmoid(tf.matmul(X, w1) + b1)\n",
    "    h2 = tf.sigmoid(tf.matmul(h1,w2) + b2)\n",
    "    logits = tf.sigmoid(tf.matmul(h2, w3) + b3)\n",
    "    loss = tf.reduce_mean(tf.square(logits - Y))"
   ]
  },
  {
   "cell_type": "markdown",
   "metadata": {},
   "source": [
    "## Define train_op"
   ]
  },
  {
   "cell_type": "code",
   "execution_count": 11,
   "metadata": {
    "collapsed": false
   },
   "outputs": [],
   "source": [
    "with tf.name_scope(\"Optimizer\"):\n",
    "    optimizer = tf.train.GradientDescentOptimizer(learning_rate)\n",
    "    train_op = optimizer.minimize(loss)"
   ]
  },
  {
   "cell_type": "markdown",
   "metadata": {},
   "source": [
    "## Define accuracy"
   ]
  },
  {
   "cell_type": "code",
   "execution_count": 12,
   "metadata": {
    "collapsed": false
   },
   "outputs": [],
   "source": [
    "with tf.name_scope(\"Accuracy\"):\n",
    "    predictions = tf.cast(logits > 0.5 , tf.float32)\n",
    "    accuracy = tf.reduce_mean(tf.cast(tf.equal(predictions, Y), tf.float32))"
   ]
  },
  {
   "cell_type": "markdown",
   "metadata": {},
   "source": [
    "## Define summary op"
   ]
  },
  {
   "cell_type": "code",
   "execution_count": 13,
   "metadata": {
    "collapsed": false
   },
   "outputs": [],
   "source": [
    "with tf.name_scope(\"Summaries\"):\n",
    "    loss_summary = tf.summary.scalar(\"loss\", loss)\n",
    "    tf.summary.scalar(\"histogram_loss\", loss)\n",
    "    tf.summary.scalar(\"accuracy\", accuracy)\n",
    "    summary_op = tf.summary.merge_all()"
   ]
  },
  {
   "cell_type": "markdown",
   "metadata": {},
   "source": [
    "## Train"
   ]
  },
  {
   "cell_type": "code",
   "execution_count": 14,
   "metadata": {
    "collapsed": false,
    "scrolled": true
   },
   "outputs": [
    {
     "name": "stdout",
     "output_type": "stream",
     "text": [
      "Loss: 0.2434101104736328 Acc: 0.6449999809265137\n",
      "Loss: 0.23730798065662384 Acc: 0.6449999809265137\n",
      "Loss: 0.2338239699602127 Acc: 0.6449999809265137\n",
      "Loss: 0.23181335628032684 Acc: 0.6449999809265137\n",
      "Loss: 0.2306537628173828 Acc: 0.6449999809265137\n",
      "Loss: 0.22996467351913452 Acc: 0.6449999809265137\n",
      "Loss: 0.22957047820091248 Acc: 0.6449999809265137\n",
      "Loss: 0.2293253391981125 Acc: 0.6449999809265137\n",
      "Loss: 0.22918564081192017 Acc: 0.6449999809265137\n",
      "Loss: 0.22910082340240479 Acc: 0.6449999809265137\n",
      "Test accuracy: 0.7096773982048035\n"
     ]
    }
   ],
   "source": [
    "loss_history = []\n",
    "with tf.Session() as sess:\n",
    "    sess.run(tf.global_variables_initializer())\n",
    "    writer = tf.summary.FileWriter(\"/tmp/graph/lg\", sess.graph)\n",
    "    for i in range(1000):\n",
    "        _, np_loss, np_accuracy, summary = sess.run([train_op, loss, accuracy, summary_op],\n",
    "                            feed_dict={X:train_feature, Y:train_label})\n",
    "        if (i + 1) % 100 == 0:\n",
    "            print(\"Loss: {} Acc: {}\".format(np_loss, np_accuracy))\n",
    "            loss_history.append(np_loss)\n",
    "            writer.add_summary(summary, global_step=i)\n",
    "    \n",
    "    # test model\n",
    "    test_accuracy = sess.run(accuracy, feed_dict={X:test_feature, Y:test_label})\n",
    "    print(\"Test accuracy: {}\".format(test_accuracy))"
   ]
  },
  {
   "cell_type": "code",
   "execution_count": null,
   "metadata": {
    "collapsed": false
   },
   "outputs": [
    {
     "data": {
      "image/png": "[encoded data removed]",
      "text/plain": [
       "<matplotlib.figure.Figure at 0x119882a20>"
      ]
     },
     "metadata": {},
     "output_type": "display_data"
    }
   ],
   "source": [
    "plt.plot(loss_history)\n",
    "plt.title('Loss history')\n",
    "plt.xlabel('epochs')\n",
    "plt.ylabel('loss')\n",
    "plt.show()"
   ]
  },
  {
   "cell_type": "code",
   "execution_count": null,
   "metadata": {
    "collapsed": false
   },
   "outputs": [
    {
     "name": "stdout",
     "output_type": "stream",
     "text": [
      "\u001b[33mW0924 13:26:02.787940 Reloader tf_logging.py:86] Found more than one graph event per run, or there was a metagraph containing a graph_def, as well as one or more graph events.  Overwriting the graph with the newest event.\r\n",
      "\u001b[0m\u001b[33mW0924 13:26:02.788346 Reloader tf_logging.py:86] Found more than one metagraph event per run. Overwriting the metagraph with the newest event.\r\n",
      "\u001b[0mTensorBoard 0.1.6 at http://WangXs-MacBook-Air.local:6006 (Press CTRL+C to quit)\r\n",
      "\u001b[33mW0924 13:26:02.797931 Reloader tf_logging.py:86] Found more than one graph event per run, or there was a metagraph containing a graph_def, as well as one or more graph events.  Overwriting the graph with the newest event.\r\n",
      "\u001b[0m\u001b[33mW0924 13:26:02.798335 Reloader tf_logging.py:86] Found more than one metagraph event per run. Overwriting the metagraph with the newest event.\r\n",
      "\u001b[0m\u001b[33mW0924 13:26:02.799075 Reloader tf_logging.py:86] Found more than one graph event per run, or there was a metagraph containing a graph_def, as well as one or more graph events.  Overwriting the graph with the newest event.\r\n",
      "\u001b[0m\u001b[33mW0924 13:26:02.799468 Reloader tf_logging.py:86] Found more than one metagraph event per run. Overwriting the metagraph with the newest event.\r\n",
      "\u001b[0m\u001b[33mW0924 13:26:02.800338 Reloader tf_logging.py:86] Found more than one graph event per run, or there was a metagraph containing a graph_def, as well as one or more graph events.  Overwriting the graph with the newest event.\r\n",
      "\u001b[0m\u001b[33mW0924 13:26:02.800769 Reloader tf_logging.py:86] Found more than one metagraph event per run. Overwriting the metagraph with the newest event.\r\n",
      "\u001b[0m\u001b[33mW0924 13:26:02.801580 Reloader tf_logging.py:86] Found more than one graph event per run, or there was a metagraph containing a graph_def, as well as one or more graph events.  Overwriting the graph with the newest event.\r\n",
      "\u001b[0m\u001b[33mW0924 13:26:02.801792 Reloader tf_logging.py:86] Found more than one metagraph event per run. Overwriting the metagraph with the newest event.\r\n",
      "\u001b[0m\u001b[33mW0924 13:26:02.802494 Reloader tf_logging.py:86] Found more than one graph event per run, or there was a metagraph containing a graph_def, as well as one or more graph events.  Overwriting the graph with the newest event.\r\n",
      "\u001b[0m\u001b[33mW0924 13:26:02.802691 Reloader tf_logging.py:86] Found more than one metagraph event per run. Overwriting the metagraph with the newest event.\r\n",
      "\u001b[0m\u001b[33mW0924 13:26:02.803375 Reloader tf_logging.py:86] Found more than one graph event per run, or there was a metagraph containing a graph_def, as well as one or more graph events.  Overwriting the graph with the newest event.\r\n",
      "\u001b[0m\u001b[33mW0924 13:26:02.804096 Reloader tf_logging.py:86] Found more than one graph event per run, or there was a metagraph containing a graph_def, as well as one or more graph events.  Overwriting the graph with the newest event.\r\n",
      "\u001b[0m\u001b[33mW0924 13:26:02.804838 Reloader tf_logging.py:86] Found more than one graph event per run, or there was a metagraph containing a graph_def, as well as one or more graph events.  Overwriting the graph with the newest event.\r\n",
      "\u001b[0m\u001b[33mW0924 13:26:02.805595 Reloader tf_logging.py:86] Found more than one graph event per run, or there was a metagraph containing a graph_def, as well as one or more graph events.  Overwriting the graph with the newest event.\r\n",
      "\u001b[0m\u001b[33mW0924 13:26:02.806373 Reloader tf_logging.py:86] Found more than one graph event per run, or there was a metagraph containing a graph_def, as well as one or more graph events.  Overwriting the graph with the newest event.\r\n",
      "\u001b[0m\u001b[33mW0924 13:26:02.807162 Reloader tf_logging.py:86] Found more than one graph event per run, or there was a metagraph containing a graph_def, as well as one or more graph events.  Overwriting the graph with the newest event.\r\n",
      "\u001b[0m\u001b[33mW0924 13:26:02.807971 Reloader tf_logging.py:86] Found more than one graph event per run, or there was a metagraph containing a graph_def, as well as one or more graph events.  Overwriting the graph with the newest event.\r\n",
      "\u001b[0m\u001b[33mW0924 13:26:02.808868 Reloader tf_logging.py:86] Found more than one graph event per run, or there was a metagraph containing a graph_def, as well as one or more graph events.  Overwriting the graph with the newest event.\r\n",
      "\u001b[0m\u001b[33mW0924 13:26:02.809174 Reloader tf_logging.py:86] Found more than one metagraph event per run. Overwriting the metagraph with the newest event.\r\n",
      "\u001b[0m\u001b[33mW0924 13:26:02.810563 Reloader tf_logging.py:86] Found more than one graph event per run, or there was a metagraph containing a graph_def, as well as one or more graph events.  Overwriting the graph with the newest event.\r\n",
      "\u001b[0m\u001b[33mW0924 13:26:02.810787 Reloader tf_logging.py:86] Found more than one metagraph event per run. Overwriting the metagraph with the newest event.\r\n",
      "\u001b[0m\u001b[33mW0924 13:26:02.812049 Reloader tf_logging.py:86] Found more than one graph event per run, or there was a metagraph containing a graph_def, as well as one or more graph events.  Overwriting the graph with the newest event.\r\n",
      "\u001b[0m\u001b[33mW0924 13:26:02.812268 Reloader tf_logging.py:86] Found more than one metagraph event per run. Overwriting the metagraph with the newest event.\r\n",
      "\u001b[0m\u001b[33mW0924 13:26:02.813547 Reloader tf_logging.py:86] Found more than one graph event per run, or there was a metagraph containing a graph_def, as well as one or more graph events.  Overwriting the graph with the newest event.\r\n",
      "\u001b[0m"
     ]
    }
   ],
   "source": [
    "!tensorboard --logdir=\"/tmp/graph\""
   ]
  },
  {
   "cell_type": "code",
   "execution_count": null,
   "metadata": {
    "collapsed": true
   },
   "outputs": [],
   "source": []
  }
 ],
 "metadata": {
  "kernelspec": {
   "display_name": "Python 3",
   "language": "python",
   "name": "python3"
  },
  "language_info": {
   "codemirror_mode": {
    "name": "ipython",
    "version": 3
   },
   "file_extension": ".py",
   "mimetype": "text/x-python",
   "name": "python",
   "nbconvert_exporter": "python",
   "pygments_lexer": "ipython3",
   "version": "3.6.2"
  }
 },
 "nbformat": 4,
 "nbformat_minor": 2
}
