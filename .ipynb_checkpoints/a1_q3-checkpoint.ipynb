{
 "cells": [
  {
   "cell_type": "code",
   "execution_count": 1,
   "metadata": {
    "collapsed": true
   },
   "outputs": [],
   "source": [
    "import tensorflow as tf\n",
    "import numpy as np\n",
    "import pandas as pd\n",
    "import matplotlib.pyplot as plt\n",
    "%matplotlib inline"
   ]
  },
  {
   "cell_type": "markdown",
   "metadata": {},
   "source": [
    "## Read data"
   ]
  },
  {
   "cell_type": "code",
   "execution_count": 2,
   "metadata": {
    "collapsed": true
   },
   "outputs": [],
   "source": [
    "with open(\"heats.txt\", \"r\") as f:\n",
    "        columns = f.readline()\n",
    "        data = f.readlines()"
   ]
  },
  {
   "cell_type": "code",
   "execution_count": 3,
   "metadata": {
    "collapsed": false
   },
   "outputs": [
    {
     "name": "stdout",
     "output_type": "stream",
     "text": [
      "Data has 10 columns: ['\"sbp\"', '\"tobacco\"', '\"ldl\"', '\"adiposity\"', '\"famhist\"', '\"typea\"', '\"obesity\"', '\"alcohol\"', '\"age\"', '\"chd\"']\n"
     ]
    }
   ],
   "source": [
    "columns = columns.strip(\"\\n\").split(\"\\t\")\n",
    "print(\"Data has {} columns: {}\".format(len(columns), columns))"
   ]
  },
  {
   "cell_type": "code",
   "execution_count": 4,
   "metadata": {
    "collapsed": false,
    "scrolled": true
   },
   "outputs": [
    {
     "name": "stdout",
     "output_type": "stream",
     "text": [
      "There are totally 462 samples.\n"
     ]
    }
   ],
   "source": [
    "def clean(s):\n",
    "    s = s.strip(\"\\n\").split(\"\\t\")\n",
    "    return s\n",
    "data = list(map(clean, data))\n",
    "data = list(filter(lambda d:len(d)!=1, data))\n",
    "print(\"There are totally {} samples.\".format(len(data)))"
   ]
  },
  {
   "cell_type": "code",
   "execution_count": 5,
   "metadata": {
    "collapsed": true
   },
   "outputs": [],
   "source": [
    "# Change famhist label to int\n",
    "i = 0\n",
    "for d in data:\n",
    "    d[4] = int(d[4] == '\"Present\"')\n",
    "    d = [float(e) for e in d]"
   ]
  },
  {
   "cell_type": "code",
   "execution_count": 6,
   "metadata": {
    "collapsed": false,
    "scrolled": true
   },
   "outputs": [
    {
     "name": "stdout",
     "output_type": "stream",
     "text": [
      "Data has shape: (462, 10)\n",
      "Train feature has shape: (400, 9)\n",
      "Train label has shape: (400,)\n",
      "Test feature has shape: (62, 9)\n",
      "Test label has shape: (62,)\n"
     ]
    }
   ],
   "source": [
    "data = np.array(data)\n",
    "train_feature = data[:400, 0:9]\n",
    "train_label = data[:400, 9]\n",
    "test_feature = data[400:, 0:9]\n",
    "test_label = data[400:, 9]\n",
    "print(\"Data has shape: {}\".format(data.shape))\n",
    "print(\"Train feature has shape: {}\".format(train_feature.shape))\n",
    "print(\"Train label has shape: {}\".format(train_label.shape))\n",
    "print(\"Test feature has shape: {}\".format(test_feature.shape))\n",
    "print(\"Test label has shape: {}\".format(test_label.shape))"
   ]
  },
  {
   "cell_type": "code",
   "execution_count": 7,
   "metadata": {
    "collapsed": false
   },
   "outputs": [
    {
     "name": "stdout",
     "output_type": "stream",
     "text": [
      "(256, 9)\n",
      "(256,)\n"
     ]
    }
   ],
   "source": [
    "def next_batch(data, label, batch_size):\n",
    "    data = np.hstack([train_feature, train_label.reshape(400,1)])\n",
    "    np.random.shuffle(data)\n",
    "    feature = data[:batch_size, 0:9]\n",
    "    label = data[:batch_size, 9]\n",
    "    return feature, label\n",
    "next_feature, next_label = next_batch(train_feature, train_label, 256)\n",
    "print(next_feature.shape)\n",
    "print(next_label.shape)"
   ]
  },
  {
   "cell_type": "markdown",
   "metadata": {},
   "source": [
    " ## Define parameter      "
   ]
  },
  {
   "cell_type": "code",
   "execution_count": 8,
   "metadata": {
    "collapsed": true
   },
   "outputs": [],
   "source": [
    "batch_size = 128\n",
    "learning_rate = 0.001\n",
    "tf.set_random_seed(0)"
   ]
  },
  {
   "cell_type": "markdown",
   "metadata": {},
   "source": [
    "## Define placeholder"
   ]
  },
  {
   "cell_type": "code",
   "execution_count": 9,
   "metadata": {
    "collapsed": true
   },
   "outputs": [],
   "source": [
    "X = tf.placeholder(tf.float32, shape=[None, 9], name=\"Input\")\n",
    "Y = tf.placeholder(tf.float32, shape=[None], name=\"Label\")"
   ]
  },
  {
   "cell_type": "markdown",
   "metadata": {},
   "source": [
    "## Define Variables"
   ]
  },
  {
   "cell_type": "code",
   "execution_count": 10,
   "metadata": {
    "collapsed": true
   },
   "outputs": [],
   "source": [
    "w1 = tf.Variable(tf.truncated_normal([9, 1], stddev=1.0), name=\"Weights1\")\n",
    "b1 = tf.Variable(tf.zeros([]), name=\"Bias1\")"
   ]
  },
  {
   "cell_type": "markdown",
   "metadata": {},
   "source": [
    "## Define sigmoid loss"
   ]
  },
  {
   "cell_type": "code",
   "execution_count": 21,
   "metadata": {
    "collapsed": false
   },
   "outputs": [],
   "source": [
    "with tf.name_scope(\"Loss\"):\n",
    "    logits = tf.matmul(X, w1) + b1\n",
    "    loss = tf.reduce_mean(tf.square(tf.sigmoid(logits) - Y))"
   ]
  },
  {
   "cell_type": "markdown",
   "metadata": {},
   "source": [
    "## Define accuracy"
   ]
  },
  {
   "cell_type": "code",
   "execution_count": 15,
   "metadata": {
    "collapsed": false
   },
   "outputs": [],
   "source": [
    "with tf.name_scope(\"Accuracy\"):\n",
    "    predictions = tf.cast(tf.sigmoid(logits) > 0.5 , tf.float32)\n",
    "    accuracy = tf.reduce_mean(tf.cast(tf.equal(predictions, Y), tf.float32))\n",
    "    #accuracy, accuracy_op = tf.metrics.accuracy(Y, predictions)"
   ]
  },
  {
   "cell_type": "markdown",
   "metadata": {},
   "source": [
    "## Define train_op"
   ]
  },
  {
   "cell_type": "code",
   "execution_count": 16,
   "metadata": {
    "collapsed": true,
    "scrolled": true
   },
   "outputs": [],
   "source": [
    "with tf.name_scope(\"Train\"):\n",
    "    optimizer = tf.train.GradientDescentOptimizer(learning_rate)\n",
    "    train_op = optimizer.minimize(loss)"
   ]
  },
  {
   "cell_type": "markdown",
   "metadata": {},
   "source": [
    "## Define summary op"
   ]
  },
  {
   "cell_type": "code",
   "execution_count": 17,
   "metadata": {
    "collapsed": true
   },
   "outputs": [],
   "source": [
    "with tf.name_scope(\"Summaries\"):\n",
    "    loss_summary = tf.summary.scalar(\"loss\", loss)\n",
    "    tf.summary.histogram(\"histogram_loss\", loss)\n",
    "    tf.summary.scalar(\"accuracy\", accuracy)\n",
    "    summary_op = tf.summary.merge_all()"
   ]
  },
  {
   "cell_type": "markdown",
   "metadata": {},
   "source": [
    "## Train"
   ]
  },
  {
   "cell_type": "code",
   "execution_count": 18,
   "metadata": {
    "collapsed": false,
    "scrolled": true
   },
   "outputs": [
    {
     "name": "stdout",
     "output_type": "stream",
     "text": [
      "Loss: 0.6449999809265137 Acc: 0.35499998927116394\n",
      "Loss: 0.6449999809265137 Acc: 0.35499998927116394\n",
      "Loss: 0.6449999809265137 Acc: 0.35499998927116394\n",
      "Loss: 0.6449999809265137 Acc: 0.35499998927116394\n",
      "Loss: 0.6449999809265137 Acc: 0.35499998927116394\n",
      "Loss: 0.6449999809265137 Acc: 0.35499998927116394\n",
      "Loss: 0.6449999809265137 Acc: 0.35499998927116394\n",
      "Loss: 0.6449999809265137 Acc: 0.35499998927116394\n",
      "Loss: 0.6449999809265137 Acc: 0.35499998927116394\n",
      "Loss: 0.6449999809265137 Acc: 0.35499998927116394\n",
      "Loss: 0.6449999809265137 Acc: 0.35499998927116394\n",
      "Loss: 0.6449999809265137 Acc: 0.35499998927116394\n",
      "Loss: 0.6449999809265137 Acc: 0.35499998927116394\n",
      "Loss: 0.6449999809265137 Acc: 0.35499998927116394\n",
      "Loss: 0.6449999809265137 Acc: 0.35499998927116394\n",
      "Loss: 0.6449999809265137 Acc: 0.35499998927116394\n",
      "Loss: 0.6449999809265137 Acc: 0.35499998927116394\n",
      "Loss: 0.6449999809265137 Acc: 0.35499998927116394\n",
      "Loss: 0.6449999809265137 Acc: 0.35499998927116394\n",
      "Loss: 0.6449999809265137 Acc: 0.35499998927116394\n",
      "Loss: 0.6449999809265137 Acc: 0.35499998927116394\n",
      "Loss: 0.6449999809265137 Acc: 0.35499998927116394\n",
      "Loss: 0.6449999809265137 Acc: 0.35499998927116394\n",
      "Loss: 0.6449999809265137 Acc: 0.35499998927116394\n",
      "Loss: 0.6449999809265137 Acc: 0.35499998927116394\n",
      "Loss: 0.6449999809265137 Acc: 0.35499998927116394\n",
      "Loss: 0.6449999809265137 Acc: 0.35499998927116394\n",
      "Loss: 0.6449999809265137 Acc: 0.35499998927116394\n",
      "Loss: 0.6449999809265137 Acc: 0.35499998927116394\n",
      "Loss: 0.6449999809265137 Acc: 0.35499998927116394\n",
      "Loss: 0.6449999809265137 Acc: 0.35499998927116394\n",
      "Loss: 0.6449999809265137 Acc: 0.35499998927116394\n",
      "Loss: 0.6449999809265137 Acc: 0.35499998927116394\n",
      "Loss: 0.6449999809265137 Acc: 0.35499998927116394\n",
      "Loss: 0.6449999809265137 Acc: 0.35499998927116394\n",
      "Loss: 0.6449999809265137 Acc: 0.35499998927116394\n",
      "Loss: 0.6449999809265137 Acc: 0.35499998927116394\n",
      "Loss: 0.6449999809265137 Acc: 0.35499998927116394\n",
      "Loss: 0.6449999809265137 Acc: 0.35499998927116394\n",
      "Loss: 0.6449999809265137 Acc: 0.35499998927116394\n",
      "Loss: 0.6449999809265137 Acc: 0.35499998927116394\n",
      "Loss: 0.6449999809265137 Acc: 0.35499998927116394\n",
      "Loss: 0.6449999809265137 Acc: 0.35499998927116394\n",
      "Loss: 0.6449999809265137 Acc: 0.35499998927116394\n",
      "Loss: 0.6449999809265137 Acc: 0.35499998927116394\n",
      "Loss: 0.6449999809265137 Acc: 0.35499998927116394\n",
      "Loss: 0.6449999809265137 Acc: 0.35499998927116394\n",
      "Loss: 0.6449999809265137 Acc: 0.35499998927116394\n",
      "Loss: 0.6449999809265137 Acc: 0.35499998927116394\n",
      "Loss: 0.6449999809265137 Acc: 0.35499998927116394\n",
      "Loss: 0.6449999809265137 Acc: 0.35499998927116394\n",
      "Loss: 0.6449999809265137 Acc: 0.35499998927116394\n",
      "Loss: 0.6449999809265137 Acc: 0.35499998927116394\n",
      "Loss: 0.6449999809265137 Acc: 0.35499998927116394\n",
      "Loss: 0.6449999809265137 Acc: 0.35499998927116394\n",
      "Loss: 0.6449999809265137 Acc: 0.35499998927116394\n",
      "Loss: 0.6449999809265137 Acc: 0.35499998927116394\n",
      "Loss: 0.6449999809265137 Acc: 0.35499998927116394\n",
      "Loss: 0.6449999809265137 Acc: 0.35499998927116394\n",
      "Loss: 0.6449999809265137 Acc: 0.35499998927116394\n",
      "Loss: 0.6449999809265137 Acc: 0.35499998927116394\n",
      "Loss: 0.6449999809265137 Acc: 0.35499998927116394\n",
      "Loss: 0.6449999809265137 Acc: 0.35499998927116394\n",
      "Loss: 0.6449999809265137 Acc: 0.35499998927116394\n",
      "Loss: 0.6449999809265137 Acc: 0.35499998927116394\n",
      "Loss: 0.6449999809265137 Acc: 0.35499998927116394\n",
      "Loss: 0.6449999809265137 Acc: 0.35499998927116394\n",
      "Loss: 0.6449999809265137 Acc: 0.35499998927116394\n",
      "Loss: 0.6449999809265137 Acc: 0.35499998927116394\n",
      "Loss: 0.6449999809265137 Acc: 0.35499998927116394\n",
      "Loss: 0.6449999809265137 Acc: 0.35499998927116394\n",
      "Loss: 0.6449999809265137 Acc: 0.35499998927116394\n",
      "Loss: 0.6449999809265137 Acc: 0.35499998927116394\n",
      "Loss: 0.6449999809265137 Acc: 0.35499998927116394\n",
      "Loss: 0.6449999809265137 Acc: 0.35499998927116394\n",
      "Loss: 0.6449999809265137 Acc: 0.35499998927116394\n",
      "Loss: 0.6449999809265137 Acc: 0.35499998927116394\n",
      "Loss: 0.6449999809265137 Acc: 0.35499998927116394\n",
      "Loss: 0.6449999809265137 Acc: 0.35499998927116394\n",
      "Loss: 0.6449999809265137 Acc: 0.35499998927116394\n",
      "Loss: 0.6449999809265137 Acc: 0.35499998927116394\n",
      "Loss: 0.6449999809265137 Acc: 0.35499998927116394\n",
      "Loss: 0.6449999809265137 Acc: 0.35499998927116394\n",
      "Loss: 0.6449999809265137 Acc: 0.35499998927116394\n",
      "Loss: 0.6449999809265137 Acc: 0.35499998927116394\n",
      "Loss: 0.6449999809265137 Acc: 0.35499998927116394\n",
      "Loss: 0.6449999809265137 Acc: 0.35499998927116394\n",
      "Loss: 0.6449999809265137 Acc: 0.35499998927116394\n",
      "Loss: 0.6449999809265137 Acc: 0.35499998927116394\n",
      "Loss: 0.6449999809265137 Acc: 0.35499998927116394\n",
      "Loss: 0.6449999809265137 Acc: 0.35499998927116394\n",
      "Loss: 0.6449999809265137 Acc: 0.35499998927116394\n",
      "Loss: 0.6449999809265137 Acc: 0.35499998927116394\n",
      "Loss: 0.6449999809265137 Acc: 0.35499998927116394\n",
      "Loss: 0.6449999809265137 Acc: 0.35499998927116394\n",
      "Loss: 0.6449999809265137 Acc: 0.35499998927116394\n",
      "Loss: 0.6449999809265137 Acc: 0.35499998927116394\n",
      "Loss: 0.6449999809265137 Acc: 0.35499998927116394\n",
      "Loss: 0.6449999809265137 Acc: 0.35499998927116394\n",
      "Loss: 0.6449999809265137 Acc: 0.35499998927116394\n",
      "Loss: 0.6449999809265137 Acc: 0.35499998927116394\n",
      "Loss: 0.6449999809265137 Acc: 0.35499998927116394\n",
      "Loss: 0.6449999809265137 Acc: 0.35499998927116394\n",
      "Loss: 0.6449999809265137 Acc: 0.35499998927116394\n",
      "Loss: 0.6449999809265137 Acc: 0.35499998927116394\n",
      "Loss: 0.6449999809265137 Acc: 0.35499998927116394\n",
      "Loss: 0.6449999809265137 Acc: 0.35499998927116394\n",
      "Loss: 0.6449999809265137 Acc: 0.35499998927116394\n",
      "Loss: 0.6449999809265137 Acc: 0.35499998927116394\n",
      "Loss: 0.6449999809265137 Acc: 0.35499998927116394\n",
      "Loss: 0.6449999809265137 Acc: 0.35499998927116394\n",
      "Loss: 0.6449999809265137 Acc: 0.35499998927116394\n",
      "Loss: 0.6449999809265137 Acc: 0.35499998927116394\n",
      "Loss: 0.6449999809265137 Acc: 0.35499998927116394\n",
      "Loss: 0.6449999809265137 Acc: 0.35499998927116394\n",
      "Loss: 0.6449999809265137 Acc: 0.35499998927116394\n",
      "Loss: 0.6449999809265137 Acc: 0.35499998927116394\n",
      "Loss: 0.6449999809265137 Acc: 0.35499998927116394\n",
      "Loss: 0.6449999809265137 Acc: 0.35499998927116394\n",
      "Loss: 0.6449999809265137 Acc: 0.35499998927116394\n",
      "Loss: 0.6449999809265137 Acc: 0.35499998927116394\n",
      "Loss: 0.6449999809265137 Acc: 0.35499998927116394\n",
      "Loss: 0.6449999809265137 Acc: 0.35499998927116394\n",
      "Loss: 0.6449999809265137 Acc: 0.35499998927116394\n",
      "Loss: 0.6449999809265137 Acc: 0.35499998927116394\n",
      "Loss: 0.6449999809265137 Acc: 0.35499998927116394\n",
      "Loss: 0.6449999809265137 Acc: 0.35499998927116394\n",
      "Loss: 0.6449999809265137 Acc: 0.35499998927116394\n",
      "Loss: 0.6449999809265137 Acc: 0.35499998927116394\n",
      "Loss: 0.6449999809265137 Acc: 0.35499998927116394\n",
      "Loss: 0.6449999809265137 Acc: 0.35499998927116394\n",
      "Loss: 0.6449999809265137 Acc: 0.35499998927116394\n",
      "Loss: 0.6449999809265137 Acc: 0.35499998927116394\n",
      "Loss: 0.6449999809265137 Acc: 0.35499998927116394\n",
      "Loss: 0.6449999809265137 Acc: 0.35499998927116394\n",
      "Loss: 0.6449999809265137 Acc: 0.35499998927116394\n",
      "Loss: 0.6449999809265137 Acc: 0.35499998927116394\n",
      "Loss: 0.6449999809265137 Acc: 0.35499998927116394\n",
      "Loss: 0.6449999809265137 Acc: 0.35499998927116394\n",
      "Loss: 0.6449999809265137 Acc: 0.35499998927116394\n",
      "Loss: 0.6449999809265137 Acc: 0.35499998927116394\n",
      "Loss: 0.6449999809265137 Acc: 0.35499998927116394\n",
      "Loss: 0.6449999809265137 Acc: 0.35499998927116394\n",
      "Loss: 0.6449999809265137 Acc: 0.35499998927116394\n",
      "Loss: 0.6449999809265137 Acc: 0.35499998927116394\n",
      "Loss: 0.6449999809265137 Acc: 0.35499998927116394\n",
      "Loss: 0.6449999809265137 Acc: 0.35499998927116394\n",
      "Loss: 0.6449999809265137 Acc: 0.35499998927116394\n",
      "Loss: 0.6449999809265137 Acc: 0.35499998927116394\n",
      "Loss: 0.6449999809265137 Acc: 0.35499998927116394\n",
      "Loss: 0.6449999809265137 Acc: 0.35499998927116394\n",
      "Loss: 0.6449999809265137 Acc: 0.35499998927116394\n",
      "Loss: 0.6449999809265137 Acc: 0.35499998927116394\n",
      "Loss: 0.6449999809265137 Acc: 0.35499998927116394\n",
      "Loss: 0.6449999809265137 Acc: 0.35499998927116394\n",
      "Loss: 0.6449999809265137 Acc: 0.35499998927116394\n",
      "Loss: 0.6449999809265137 Acc: 0.35499998927116394\n",
      "Loss: 0.6449999809265137 Acc: 0.35499998927116394\n",
      "Loss: 0.6449999809265137 Acc: 0.35499998927116394\n",
      "Loss: 0.6449999809265137 Acc: 0.35499998927116394\n",
      "Loss: 0.6449999809265137 Acc: 0.35499998927116394\n",
      "Loss: 0.6449999809265137 Acc: 0.35499998927116394\n",
      "Loss: 0.6449999809265137 Acc: 0.35499998927116394\n",
      "Loss: 0.6449999809265137 Acc: 0.35499998927116394\n",
      "Loss: 0.6449999809265137 Acc: 0.35499998927116394\n",
      "Loss: 0.6449999809265137 Acc: 0.35499998927116394\n",
      "Loss: 0.6449999809265137 Acc: 0.35499998927116394\n",
      "Loss: 0.6449999809265137 Acc: 0.35499998927116394\n",
      "Loss: 0.6449999809265137 Acc: 0.35499998927116394\n",
      "Loss: 0.6449999809265137 Acc: 0.35499998927116394\n",
      "Loss: 0.6449999809265137 Acc: 0.35499998927116394\n",
      "Loss: 0.6449999809265137 Acc: 0.35499998927116394\n",
      "Loss: 0.6449999809265137 Acc: 0.35499998927116394\n",
      "Loss: 0.6449999809265137 Acc: 0.35499998927116394\n",
      "Loss: 0.6449999809265137 Acc: 0.35499998927116394\n",
      "Loss: 0.6449999809265137 Acc: 0.35499998927116394\n",
      "Loss: 0.6449999809265137 Acc: 0.35499998927116394\n",
      "Loss: 0.6449999809265137 Acc: 0.35499998927116394\n",
      "Loss: 0.6449999809265137 Acc: 0.35499998927116394\n",
      "Loss: 0.6449999809265137 Acc: 0.35499998927116394\n",
      "Loss: 0.6449999809265137 Acc: 0.35499998927116394\n",
      "Loss: 0.6449999809265137 Acc: 0.35499998927116394\n",
      "Loss: 0.6449999809265137 Acc: 0.35499998927116394\n",
      "Loss: 0.6449999809265137 Acc: 0.35499998927116394\n",
      "Loss: 0.6449999809265137 Acc: 0.35499998927116394\n",
      "Loss: 0.6449999809265137 Acc: 0.35499998927116394\n",
      "Loss: 0.6449999809265137 Acc: 0.35499998927116394\n",
      "Loss: 0.6449999809265137 Acc: 0.35499998927116394\n",
      "Loss: 0.6449999809265137 Acc: 0.35499998927116394\n",
      "Loss: 0.6449999809265137 Acc: 0.35499998927116394\n",
      "Loss: 0.6449999809265137 Acc: 0.35499998927116394\n",
      "Loss: 0.6449999809265137 Acc: 0.35499998927116394\n",
      "Loss: 0.6449999809265137 Acc: 0.35499998927116394\n",
      "Loss: 0.6449999809265137 Acc: 0.35499998927116394\n",
      "Loss: 0.6449999809265137 Acc: 0.35499998927116394\n",
      "Loss: 0.6449999809265137 Acc: 0.35499998927116394\n",
      "Loss: 0.6449999809265137 Acc: 0.35499998927116394\n",
      "Loss: 0.6449999809265137 Acc: 0.35499998927116394\n",
      "Loss: 0.6449999809265137 Acc: 0.35499998927116394\n",
      "Loss: 0.6449999809265137 Acc: 0.35499998927116394\n"
     ]
    }
   ],
   "source": [
    "loss_history = []\n",
    "sess = tf.Session()\n",
    "sess.run(tf.global_variables_initializer())\n",
    "sess.run(tf.local_variables_initializer())\n",
    "writer = tf.summary.FileWriter(\"/tmp/graph/lg\", sess.graph)\n",
    "for i in range(200):\n",
    "    next_feature, next_label = next_batch(train_feature, train_label, 400)\n",
    "    _, np_loss, np_accuracy, summary = sess.run([train_op, loss, accuracy, summary_op],\n",
    "                        feed_dict={X:next_feature, Y:next_label})\n",
    "    print(\"Loss: {} Acc: {}\".format(np_loss, np_accuracy))\n",
    "    loss_history.append(np_loss)\n",
    "    writer.add_summary(summary, global_step=i)"
   ]
  },
  {
   "cell_type": "code",
   "execution_count": 19,
   "metadata": {
    "collapsed": false
   },
   "outputs": [
    {
     "name": "stdout",
     "output_type": "stream",
     "text": [
      "Test accuracy: 0.29032257199287415\n",
      "[array([[ 0.31422797],\n",
      "       [-0.23275347],\n",
      "       [ 0.35895273],\n",
      "       [-0.61974561],\n",
      "       [ 0.73897272],\n",
      "       [ 0.56570107],\n",
      "       [-0.75406563],\n",
      "       [ 0.54267734],\n",
      "       [-0.09357337]], dtype=float32), -1.6146569e-08]\n",
      "[array([[ 30.83596039],\n",
      "       [ 34.65694046],\n",
      "       [ 48.89940643],\n",
      "       [ 72.17121124],\n",
      "       [ 28.52905273],\n",
      "       [ 34.4697113 ],\n",
      "       [ 32.69628143],\n",
      "       [ 56.41946411],\n",
      "       [ 25.24097824],\n",
      "       [ 25.10131454],\n",
      "       [ 30.10945129],\n",
      "       [ 43.67415237],\n",
      "       [ 43.88537216],\n",
      "       [ 63.63326645],\n",
      "       [ 31.60486603],\n",
      "       [ 63.52596283],\n",
      "       [ 56.58460236],\n",
      "       [ 38.9339447 ],\n",
      "       [ 44.05513   ],\n",
      "       [ 47.18891144],\n",
      "       [ 77.40716553],\n",
      "       [ 42.83596039],\n",
      "       [ 73.65531158],\n",
      "       [ 55.46630096],\n",
      "       [ 37.41217041],\n",
      "       [ 48.84684753],\n",
      "       [ 74.44876099],\n",
      "       [ 51.49710464],\n",
      "       [ 42.18231964],\n",
      "       [ 33.90405273],\n",
      "       [ 48.64043808],\n",
      "       [ 25.82388306],\n",
      "       [ 38.0630455 ],\n",
      "       [ 38.87539291],\n",
      "       [ 59.28488922],\n",
      "       [ 39.60346985],\n",
      "       [ 49.57800674],\n",
      "       [ 42.57430649],\n",
      "       [ 44.60556793],\n",
      "       [ 43.55612183],\n",
      "       [ 26.98429871],\n",
      "       [ 40.28479385],\n",
      "       [ 49.44045258],\n",
      "       [ 43.96657944],\n",
      "       [ 59.52361298],\n",
      "       [ 57.00763702],\n",
      "       [ 35.68362427],\n",
      "       [ 47.04367828],\n",
      "       [ 41.10935974],\n",
      "       [ 86.70516205],\n",
      "       [ 71.4954834 ],\n",
      "       [ 49.58214188],\n",
      "       [ 65.21675873],\n",
      "       [  9.17089462],\n",
      "       [ 43.65534973],\n",
      "       [ 56.59830093],\n",
      "       [ 31.9773407 ],\n",
      "       [ 58.96433258],\n",
      "       [ 51.03681946],\n",
      "       [ 41.15961838],\n",
      "       [ 45.75371552],\n",
      "       [ 42.92584229]], dtype=float32), array([[ 1.],\n",
      "       [ 1.],\n",
      "       [ 1.],\n",
      "       [ 1.],\n",
      "       [ 1.],\n",
      "       [ 1.],\n",
      "       [ 1.],\n",
      "       [ 1.],\n",
      "       [ 1.],\n",
      "       [ 1.],\n",
      "       [ 1.],\n",
      "       [ 1.],\n",
      "       [ 1.],\n",
      "       [ 1.],\n",
      "       [ 1.],\n",
      "       [ 1.],\n",
      "       [ 1.],\n",
      "       [ 1.],\n",
      "       [ 1.],\n",
      "       [ 1.],\n",
      "       [ 1.],\n",
      "       [ 1.],\n",
      "       [ 1.],\n",
      "       [ 1.],\n",
      "       [ 1.],\n",
      "       [ 1.],\n",
      "       [ 1.],\n",
      "       [ 1.],\n",
      "       [ 1.],\n",
      "       [ 1.],\n",
      "       [ 1.],\n",
      "       [ 1.],\n",
      "       [ 1.],\n",
      "       [ 1.],\n",
      "       [ 1.],\n",
      "       [ 1.],\n",
      "       [ 1.],\n",
      "       [ 1.],\n",
      "       [ 1.],\n",
      "       [ 1.],\n",
      "       [ 1.],\n",
      "       [ 1.],\n",
      "       [ 1.],\n",
      "       [ 1.],\n",
      "       [ 1.],\n",
      "       [ 1.],\n",
      "       [ 1.],\n",
      "       [ 1.],\n",
      "       [ 1.],\n",
      "       [ 1.],\n",
      "       [ 1.],\n",
      "       [ 1.],\n",
      "       [ 1.],\n",
      "       [ 1.],\n",
      "       [ 1.],\n",
      "       [ 1.],\n",
      "       [ 1.],\n",
      "       [ 1.],\n",
      "       [ 1.],\n",
      "       [ 1.],\n",
      "       [ 1.],\n",
      "       [ 1.]], dtype=float32)]\n"
     ]
    }
   ],
   "source": [
    "# test model\n",
    "test_accuracy = sess.run(accuracy, feed_dict={X:test_feature, Y:test_label})\n",
    "print(\"Test accuracy: {}\".format(test_accuracy))\n",
    "print(sess.run([w1, b1]))\n",
    "print(sess.run([logits,predictions], feed_dict={X:test_feature, Y:test_label}))"
   ]
  },
  {
   "cell_type": "code",
   "execution_count": 20,
   "metadata": {
    "collapsed": false,
    "scrolled": true
   },
   "outputs": [
    {
     "data": {
      "image/png": "[encoded data removed]",
      "text/plain": [
       "<matplotlib.figure.Figure at 0x11792d898>"
      ]
     },
     "metadata": {},
     "output_type": "display_data"
    }
   ],
   "source": [
    "plt.plot(loss_history)\n",
    "plt.title('Loss history')\n",
    "plt.xlabel('epochs')\n",
    "plt.ylabel('loss')\n",
    "plt.show()"
   ]
  },
  {
   "cell_type": "markdown",
   "metadata": {},
   "source": [
    "!tensorboard --logdir=\"/tmp/graph/lg\""
   ]
  },
  {
   "cell_type": "code",
   "execution_count": null,
   "metadata": {
    "collapsed": true
   },
   "outputs": [],
   "source": []
  }
 ],
 "metadata": {
  "kernelspec": {
   "display_name": "Python 3",
   "language": "python",
   "name": "python3"
  },
  "language_info": {
   "codemirror_mode": {
    "name": "ipython",
    "version": 3
   },
   "file_extension": ".py",
   "mimetype": "text/x-python",
   "name": "python",
   "nbconvert_exporter": "python",
   "pygments_lexer": "ipython3",
   "version": "3.6.2"
  }
 },
 "nbformat": 4,
 "nbformat_minor": 2
}
