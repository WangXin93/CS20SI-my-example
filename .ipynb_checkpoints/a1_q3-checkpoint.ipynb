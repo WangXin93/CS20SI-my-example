{
 "cells": [
  {
   "cell_type": "code",
   "execution_count": null,
   "metadata": {
    "collapsed": true
   },
   "outputs": [],
   "source": [
    "import tensorflow as tf\n",
    "import numpy as np\n",
    "import pandas as pd\n",
    "import matplotlib.pyplot as plt\n",
    "%matplotlib inline"
   ]
  },
  {
   "cell_type": "markdown",
   "metadata": {},
   "source": [
    "## Read data"
   ]
  },
  {
   "cell_type": "code",
   "execution_count": null,
   "metadata": {
    "collapsed": true
   },
   "outputs": [],
   "source": [
    "with open(\"heats.txt\", \"r\") as f:\n",
    "        columns = f.readline()\n",
    "        data = f.readlines()"
   ]
  },
  {
   "cell_type": "code",
   "execution_count": null,
   "metadata": {
    "collapsed": false
   },
   "outputs": [],
   "source": [
    "columns = columns.strip(\"\\n\").split(\"\\t\")\n",
    "print(\"Data has {} columns: {}\".format(len(columns), columns))"
   ]
  },
  {
   "cell_type": "code",
   "execution_count": null,
   "metadata": {
    "collapsed": false,
    "scrolled": true
   },
   "outputs": [],
   "source": [
    "def clean(s):\n",
    "    s = s.strip(\"\\n\").split(\"\\t\")\n",
    "    return s\n",
    "data = list(map(clean, data))\n",
    "data = list(filter(lambda d:len(d)!=1, data))\n",
    "print(\"There are totally {} samples.\".format(len(data)))"
   ]
  },
  {
   "cell_type": "code",
   "execution_count": null,
   "metadata": {
    "collapsed": false
   },
   "outputs": [],
   "source": [
    "# Change famhist label to int\n",
    "i = 0\n",
    "for d in data:\n",
    "    d[4] = int(d[4] == '\"Present\"')\n",
    "    d = [float(e) for e in d]"
   ]
  },
  {
   "cell_type": "code",
   "execution_count": null,
   "metadata": {
    "collapsed": false,
    "scrolled": true
   },
   "outputs": [],
   "source": [
    "data = np.array(data)\n",
    "train_feature = data[:400, 0:9]\n",
    "train_label = data[:400, 9]\n",
    "test_feature = data[400:, 0:9]\n",
    "test_label = data[400:, 9]\n",
    "print(\"Data has shape: {}\".format(data.shape))\n",
    "print(\"Train feature has shape: {}\".format(train_feature.shape))\n",
    "print(\"Train label has shape: {}\".format(train_label.shape))\n",
    "print(\"Test feature has shape: {}\".format(test_feature.shape))\n",
    "print(\"Test label has shape: {}\".format(test_label.shape))"
   ]
  },
  {
   "cell_type": "code",
   "execution_count": null,
   "metadata": {
    "collapsed": false
   },
   "outputs": [],
   "source": [
    "def next_batch(data, batch_size):\n",
    "    np.random.shuffle(data)\n",
    "    batch_feature = data[:, 0:9]\n",
    "    batch_label = data[:, 9]\n",
    "    return batch_feature[:batch_size], batch_label[:batch_size]\n",
    "batch_feature, batch_label = next_batch(data, 128)\n",
    "print(\"Batch feature shape: \", batch_feature.shape)\n",
    "print(\"Batch label shape: \", batch_label.shape)"
   ]
  },
  {
   "cell_type": "markdown",
   "metadata": {},
   "source": [
    " ## Define parameter      "
   ]
  },
  {
   "cell_type": "code",
   "execution_count": null,
   "metadata": {
    "collapsed": true
   },
   "outputs": [],
   "source": [
    "batch_size = 128\n",
    "learning_rate = 0.0004\n",
    "#tf.set_random_seed(0)"
   ]
  },
  {
   "cell_type": "markdown",
   "metadata": {},
   "source": [
    "## Define placeholder"
   ]
  },
  {
   "cell_type": "code",
   "execution_count": null,
   "metadata": {
    "collapsed": true
   },
   "outputs": [],
   "source": [
    "X = tf.placeholder(tf.float32, shape=[None, 9], name=\"Input\")\n",
    "Y = tf.placeholder(tf.float32, shape=[None], name=\"Label\")"
   ]
  },
  {
   "cell_type": "markdown",
   "metadata": {},
   "source": [
    "## Define Variables"
   ]
  },
  {
   "cell_type": "code",
   "execution_count": null,
   "metadata": {
    "collapsed": true
   },
   "outputs": [],
   "source": [
    "w = tf.Variable(tf.truncated_normal([9, 1], stddev=0.1), name=\"Weights\")\n",
    "b = tf.Variable(tf.zeros([]), name=\"Bias\")"
   ]
  },
  {
   "cell_type": "markdown",
   "metadata": {},
   "source": [
    "## Define sigmoid loss"
   ]
  },
  {
   "cell_type": "code",
   "execution_count": null,
   "metadata": {
    "collapsed": false
   },
   "outputs": [],
   "source": [
    "with tf.name_scope(\"Loss\"):\n",
    "    logits = tf.sigmoid(tf.matmul(X, w) + b)\n",
    "    loss = tf.reduce_mean(tf.square(logits - Y))"
   ]
  },
  {
   "cell_type": "markdown",
   "metadata": {},
   "source": [
    "## Define train_op"
   ]
  },
  {
   "cell_type": "code",
   "execution_count": null,
   "metadata": {
    "collapsed": false
   },
   "outputs": [],
   "source": [
    "with tf.name_scope(\"Optimizer\"):\n",
    "    lr = tf.random_uniform([], 0.0004, 0.0008)\n",
    "    optimizer = tf.train.GradientDescentOptimizer(lr)\n",
    "    train_op = optimizer.minimize(loss)"
   ]
  },
  {
   "cell_type": "markdown",
   "metadata": {},
   "source": [
    "## Define accuracy"
   ]
  },
  {
   "cell_type": "code",
   "execution_count": null,
   "metadata": {
    "collapsed": false
   },
   "outputs": [],
   "source": [
    "with tf.name_scope(\"Accuracy\"):\n",
    "    predictions = tf.cast(logits > 0.5 , tf.float32)\n",
    "    accuracy = tf.reduce_mean(tf.cast(tf.equal(predictions, Y), tf.float32))"
   ]
  },
  {
   "cell_type": "markdown",
   "metadata": {},
   "source": [
    "## Define summary op"
   ]
  },
  {
   "cell_type": "code",
   "execution_count": null,
   "metadata": {
    "collapsed": false
   },
   "outputs": [],
   "source": [
    "with tf.name_scope(\"Summary\"):\n",
    "    loss_summary = tf.summary.scalar(\"loss\", loss)\n",
    "    acc_summary = tf.summary.scalar(\"accuracy\", accuracy)\n",
    "    summary_op = tf.summary.merge_all()"
   ]
  },
  {
   "cell_type": "markdown",
   "metadata": {},
   "source": [
    "## Train"
   ]
  },
  {
   "cell_type": "code",
   "execution_count": null,
   "metadata": {
    "collapsed": false,
    "scrolled": true
   },
   "outputs": [],
   "source": [
    "loss_history = []\n",
    "with tf.Session() as sess:\n",
    "    step = 0\n",
    "    sess.run(tf.global_variables_initializer())\n",
    "    writer = tf.summary.FileWriter(\"/tmp/graph/lg\", sess.graph)\n",
    "    for i in range(1000):\n",
    "        _, np_loss, np_accuracy, np_lr, summary = sess.run([train_op, loss, accuracy, lr, summary_op],\n",
    "                            feed_dict={X:train_feature, Y:train_label})\n",
    "        if (i + 1) % 100 == 0:\n",
    "            print(\"Loss: {} Acc: {}, lr: {}\".format(np_loss, np_accuracy, np_lr))\n",
    "            loss_history.append(np_loss)\n",
    "            writer.add_summary(summary, global_step=step)\n",
    "        step += 1\n",
    "    \n",
    "    # test model\n",
    "    test_accuracy = sess.run(accuracy, feed_dict={X:test_feature, Y:test_label})\n",
    "    print(\"Test accuracy: {}\".format(test_accuracy))"
   ]
  },
  {
   "cell_type": "code",
   "execution_count": null,
   "metadata": {
    "collapsed": false
   },
   "outputs": [],
   "source": [
    "plt.plot(loss_history)\n",
    "plt.title('Loss history')\n",
    "plt.xlabel('epochs')\n",
    "plt.ylabel('loss')\n",
    "plt.show()"
   ]
  },
  {
   "cell_type": "code",
   "execution_count": null,
   "metadata": {
    "collapsed": false
   },
   "outputs": [],
   "source": [
    "!tensorboard --logdir=\"/tmp/graph\""
   ]
  },
  {
   "cell_type": "code",
   "execution_count": null,
   "metadata": {
    "collapsed": true
   },
   "outputs": [],
   "source": []
  }
 ],
 "metadata": {
  "kernelspec": {
   "display_name": "Python 3",
   "language": "python",
   "name": "python3"
  },
  "language_info": {
   "codemirror_mode": {
    "name": "ipython",
    "version": 3
   },
   "file_extension": ".py",
   "mimetype": "text/x-python",
   "name": "python",
   "nbconvert_exporter": "python",
   "pygments_lexer": "ipython3",
   "version": "3.6.2"
  }
 },
 "nbformat": 4,
 "nbformat_minor": 2
}
