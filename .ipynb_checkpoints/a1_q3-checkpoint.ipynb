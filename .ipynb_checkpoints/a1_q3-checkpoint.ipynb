{
 "cells": [
  {
   "cell_type": "code",
   "execution_count": 1,
   "metadata": {
    "collapsed": true
   },
   "outputs": [],
   "source": [
    "import tensorflow as tf\n",
    "import numpy as np\n",
    "import pandas as pd\n",
    "import matplotlib.pyplot as plt\n",
    "%matplotlib inline"
   ]
  },
  {
   "cell_type": "markdown",
   "metadata": {},
   "source": [
    "## Read data"
   ]
  },
  {
   "cell_type": "code",
   "execution_count": 2,
   "metadata": {
    "collapsed": true
   },
   "outputs": [],
   "source": [
    "with open(\"heats.txt\", \"r\") as f:\n",
    "        columns = f.readline()\n",
    "        data = f.readlines()"
   ]
  },
  {
   "cell_type": "code",
   "execution_count": 3,
   "metadata": {
    "collapsed": false
   },
   "outputs": [
    {
     "name": "stdout",
     "output_type": "stream",
     "text": [
      "Data has 10 columns: ['\"sbp\"', '\"tobacco\"', '\"ldl\"', '\"adiposity\"', '\"famhist\"', '\"typea\"', '\"obesity\"', '\"alcohol\"', '\"age\"', '\"chd\"']\n"
     ]
    }
   ],
   "source": [
    "columns = columns.strip(\"\\n\").split(\"\\t\")\n",
    "print(\"Data has {} columns: {}\".format(len(columns), columns))"
   ]
  },
  {
   "cell_type": "code",
   "execution_count": 4,
   "metadata": {
    "collapsed": false,
    "scrolled": true
   },
   "outputs": [
    {
     "name": "stdout",
     "output_type": "stream",
     "text": [
      "There are totally 462 samples.\n"
     ]
    }
   ],
   "source": [
    "def clean(s):\n",
    "    s = s.strip(\"\\n\").split(\"\\t\")\n",
    "    return s\n",
    "data = list(map(clean, data))\n",
    "data = list(filter(lambda d:len(d)!=1, data))\n",
    "print(\"There are totally {} samples.\".format(len(data)))"
   ]
  },
  {
   "cell_type": "code",
   "execution_count": 5,
   "metadata": {
    "collapsed": false
   },
   "outputs": [],
   "source": [
    "# Change famhist label to int\n",
    "i = 0\n",
    "for d in data:\n",
    "    d[4] = int(d[4] == '\"Present\"')\n",
    "    d = [float(e) for e in d]"
   ]
  },
  {
   "cell_type": "code",
   "execution_count": 6,
   "metadata": {
    "collapsed": false,
    "scrolled": true
   },
   "outputs": [
    {
     "name": "stdout",
     "output_type": "stream",
     "text": [
      "Data has shape: (462, 10)\n",
      "Train feature has shape: (400, 9)\n",
      "Train label has shape: (400,)\n",
      "Test feature has shape: (62, 9)\n",
      "Test label has shape: (62,)\n"
     ]
    }
   ],
   "source": [
    "data = np.array(data)\n",
    "train_feature = data[:400, 0:9]\n",
    "train_label = data[:400, 9]\n",
    "test_feature = data[400:, 0:9]\n",
    "test_label = data[400:, 9]\n",
    "print(\"Data has shape: {}\".format(data.shape))\n",
    "print(\"Train feature has shape: {}\".format(train_feature.shape))\n",
    "print(\"Train label has shape: {}\".format(train_label.shape))\n",
    "print(\"Test feature has shape: {}\".format(test_feature.shape))\n",
    "print(\"Test label has shape: {}\".format(test_label.shape))"
   ]
  },
  {
   "cell_type": "code",
   "execution_count": 7,
   "metadata": {
    "collapsed": false
   },
   "outputs": [
    {
     "name": "stdout",
     "output_type": "stream",
     "text": [
      "(256, 9)\n",
      "(256,)\n"
     ]
    }
   ],
   "source": [
    "def next_batch(data, label, batch_size):\n",
    "    data = np.hstack([train_feature, train_label.reshape(400,1)])\n",
    "    np.random.shuffle(data)\n",
    "    feature = data[:batch_size, 0:9]\n",
    "    label = data[:batch_size, 9]\n",
    "    return feature, label\n",
    "next_feature, next_label = next_batch(train_feature, train_label, 256)\n",
    "print(next_feature.shape)\n",
    "print(next_label.shape)"
   ]
  },
  {
   "cell_type": "markdown",
   "metadata": {},
   "source": [
    " ## Define parameter      "
   ]
  },
  {
   "cell_type": "code",
   "execution_count": 8,
   "metadata": {
    "collapsed": true
   },
   "outputs": [],
   "source": [
    "batch_size = 128\n",
    "learning_rate = 0.001\n",
    "tf.set_random_seed(0)"
   ]
  },
  {
   "cell_type": "markdown",
   "metadata": {},
   "source": [
    "## Define placeholder"
   ]
  },
  {
   "cell_type": "code",
   "execution_count": 9,
   "metadata": {
    "collapsed": true
   },
   "outputs": [],
   "source": [
    "X = tf.placeholder(tf.float32, shape=[None, 9], name=\"Input\")\n",
    "Y = tf.placeholder(tf.float32, shape=[None], name=\"Label\")"
   ]
  },
  {
   "cell_type": "markdown",
   "metadata": {},
   "source": [
    "## Define Variables"
   ]
  },
  {
   "cell_type": "code",
   "execution_count": 10,
   "metadata": {
    "collapsed": true
   },
   "outputs": [],
   "source": [
    "w1 = tf.Variable(tf.truncated_normal([9, 1], stddev=0.01), name=\"Weights1\")\n",
    "b1 = tf.Variable(tf.zeros([]), name=\"Bias1\")"
   ]
  },
  {
   "cell_type": "markdown",
   "metadata": {},
   "source": [
    "## Define sigmoid loss"
   ]
  },
  {
   "cell_type": "code",
   "execution_count": 11,
   "metadata": {
    "collapsed": false
   },
   "outputs": [],
   "source": [
    "with tf.name_scope(\"Loss\"):\n",
    "    logits = tf.sigmoid(tf.matmul(X, w1) + b1)\n",
    "    loss = tf.reduce_mean(tf.square(logits - Y))"
   ]
  },
  {
   "cell_type": "markdown",
   "metadata": {},
   "source": [
    "## Define train_op"
   ]
  },
  {
   "cell_type": "code",
   "execution_count": 12,
   "metadata": {
    "collapsed": false
   },
   "outputs": [],
   "source": [
    "with tf.name_scope(\"Optimizer\"):\n",
    "    optimizer = tf.train.GradientDescentOptimizer(learning_rate)\n",
    "    train_op = optimizer.minimize(loss)"
   ]
  },
  {
   "cell_type": "markdown",
   "metadata": {},
   "source": [
    "## Define accuracy"
   ]
  },
  {
   "cell_type": "code",
   "execution_count": 13,
   "metadata": {
    "collapsed": false
   },
   "outputs": [],
   "source": [
    "with tf.name_scope(\"Accuracy\"):\n",
    "    predictions = tf.cast(logits > 0.5 , tf.float32)\n",
    "    accuracy = tf.reduce_mean(tf.cast(tf.equal(predictions, Y), tf.float32))"
   ]
  },
  {
   "cell_type": "markdown",
   "metadata": {},
   "source": [
    "## Define summary op"
   ]
  },
  {
   "cell_type": "code",
   "execution_count": 14,
   "metadata": {
    "collapsed": false
   },
   "outputs": [],
   "source": [
    "with tf.name_scope(\"Summaries\"):\n",
    "    loss_summary = tf.summary.scalar(\"loss\", loss)\n",
    "    tf.summary.histogram(\"histogram_loss\", loss)\n",
    "    tf.summary.scalar(\"accuracy\", accuracy)\n",
    "    summary_op = tf.summary.merge_all()"
   ]
  },
  {
   "cell_type": "markdown",
   "metadata": {},
   "source": [
    "## Train"
   ]
  },
  {
   "cell_type": "code",
   "execution_count": 15,
   "metadata": {
    "collapsed": false,
    "scrolled": true
   },
   "outputs": [
    {
     "name": "stdout",
     "output_type": "stream",
     "text": [
      "Test accuracy: 0.7096773982048035\n"
     ]
    }
   ],
   "source": [
    "loss_history = []\n",
    "with tf.Session() as sess:\n",
    "    sess.run(tf.global_variables_initializer())\n",
    "    writer = tf.summary.FileWriter(\"/tmp/graph/lg\", sess.graph)\n",
    "    for i in range(1000):\n",
    "        next_feature, next_label = next_batch(train_feature, train_label, 256)\n",
    "        _, np_loss, np_accuracy, summary = sess.run([train_op, loss, accuracy, summary_op],\n",
    "                            feed_dict={X:next_feature, Y:next_label})\n",
    "        if (i + 1) % 10 == 0:\n",
    "            #print(\"Loss: {} Acc: {}\".format(np_loss, np_accuracy))\n",
    "            loss_history.append(np_loss)\n",
    "            writer.add_summary(summary, global_step=i)\n",
    "    \n",
    "    # test model\n",
    "    test_accuracy = sess.run(accuracy, feed_dict={X:test_feature, Y:test_label})\n",
    "    print(\"Test accuracy: {}\".format(test_accuracy))"
   ]
  },
  {
   "cell_type": "code",
   "execution_count": null,
   "metadata": {
    "collapsed": false
   },
   "outputs": [
    {
     "data": {
      "image/png": "[encoded data removed]",
      "text/plain": [
       "<matplotlib.figure.Figure at 0x10efa6588>"
      ]
     },
     "metadata": {},
     "output_type": "display_data"
    }
   ],
   "source": [
    "plt.plot(loss_history)\n",
    "plt.title('Loss history')\n",
    "plt.xlabel('epochs')\n",
    "plt.ylabel('loss')\n",
    "plt.show()"
   ]
  },
  {
   "cell_type": "code",
   "execution_count": null,
   "metadata": {
    "collapsed": false
   },
   "outputs": [
    {
     "name": "stdout",
     "output_type": "stream",
     "text": [
      "\u001b[33mW0925 22:55:00.043574 Reloader tf_logging.py:86] Found more than one graph event per run, or there was a metagraph containing a graph_def, as well as one or more graph events.  Overwriting the graph with the newest event.\n",
      "\u001b[0m\u001b[33mW0925 22:55:00.043909 Reloader tf_logging.py:86] Found more than one metagraph event per run. Overwriting the metagraph with the newest event.\n",
      "\u001b[0m\u001b[33mW0925 22:55:00.044673 Reloader tf_logging.py:86] Found more than one graph event per run, or there was a metagraph containing a graph_def, as well as one or more graph events.  Overwriting the graph with the newest event.\n",
      "\u001b[0m\u001b[33mW0925 22:55:00.044884 Reloader tf_logging.py:86] Found more than one metagraph event per run. Overwriting the metagraph with the newest event.\n",
      "\u001b[0m\u001b[33mW0925 22:55:00.045452 Reloader tf_logging.py:86] Found more than one graph event per run, or there was a metagraph containing a graph_def, as well as one or more graph events.  Overwriting the graph with the newest event.\n",
      "\u001b[0m\u001b[33mW0925 22:55:00.045658 Reloader tf_logging.py:86] Found more than one metagraph event per run. Overwriting the metagraph with the newest event.\n",
      "\u001b[0m\u001b[33mW0925 22:55:00.046213 Reloader tf_logging.py:86] Found more than one graph event per run, or there was a metagraph containing a graph_def, as well as one or more graph events.  Overwriting the graph with the newest event.\n",
      "\u001b[0m\u001b[33mW0925 22:55:00.046405 Reloader tf_logging.py:86] Found more than one metagraph event per run. Overwriting the metagraph with the newest event.\n",
      "\u001b[0m\u001b[33mW0925 22:55:00.047120 Reloader tf_logging.py:86] Found more than one graph event per run, or there was a metagraph containing a graph_def, as well as one or more graph events.  Overwriting the graph with the newest event.\n",
      "\u001b[0m\u001b[33mW0925 22:55:00.047330 Reloader tf_logging.py:86] Found more than one metagraph event per run. Overwriting the metagraph with the newest event.\n",
      "\u001b[0mTensorBoard 0.1.6 at http://WangXs-MacBook-Air.local:6006 (Press CTRL+C to quit)\n"
     ]
    }
   ],
   "source": [
    "!tensorboard --logdir=\"/tmp/graph/lg\""
   ]
  },
  {
   "cell_type": "code",
   "execution_count": null,
   "metadata": {
    "collapsed": true
   },
   "outputs": [],
   "source": []
  }
 ],
 "metadata": {
  "kernelspec": {
   "display_name": "Python 3",
   "language": "python",
   "name": "python3"
  },
  "language_info": {
   "codemirror_mode": {
    "name": "ipython",
    "version": 3
   },
   "file_extension": ".py",
   "mimetype": "text/x-python",
   "name": "python",
   "nbconvert_exporter": "python",
   "pygments_lexer": "ipython3",
   "version": "3.6.2"
  }
 },
 "nbformat": 4,
 "nbformat_minor": 2
}
